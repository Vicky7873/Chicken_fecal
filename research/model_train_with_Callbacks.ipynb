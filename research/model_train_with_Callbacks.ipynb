{
 "cells": [
  {
   "cell_type": "code",
   "execution_count": 1,
   "metadata": {},
   "outputs": [],
   "source": [
    "import os"
   ]
  },
  {
   "cell_type": "code",
   "execution_count": 2,
   "metadata": {},
   "outputs": [
    {
     "data": {
      "text/plain": [
       "'/Users/bhikipallai/Desktop/Projects/Chicken_fecal/research'"
      ]
     },
     "execution_count": 2,
     "metadata": {},
     "output_type": "execute_result"
    }
   ],
   "source": [
    "%pwd"
   ]
  },
  {
   "cell_type": "code",
   "execution_count": 3,
   "metadata": {},
   "outputs": [],
   "source": [
    "os.chdir('../')"
   ]
  },
  {
   "cell_type": "code",
   "execution_count": 4,
   "metadata": {},
   "outputs": [
    {
     "data": {
      "text/plain": [
       "'/Users/bhikipallai/Desktop/Projects/Chicken_fecal'"
      ]
     },
     "execution_count": 4,
     "metadata": {},
     "output_type": "execute_result"
    }
   ],
   "source": [
    "%pwd"
   ]
  },
  {
   "cell_type": "code",
   "execution_count": 5,
   "metadata": {},
   "outputs": [],
   "source": [
    "from dataclasses import dataclass\n",
    "from pathlib import Path\n",
    "\n",
    "@dataclass(frozen=True)\n",
    "class ModelcheckpointConfig:\n",
    "    root_door: Path\n",
    "    model_save: Path\n",
    "    monitor: str\n",
    "    save_best_only: bool\n",
    "    save_weights_only: bool\n",
    "    verbose: int\n",
    "    patience: int\n",
    "    restore_best_weights: bool\n",
    "    factor: float\n",
    "    min_lr: float\n",
    "    existing_model: Path"
   ]
  },
  {
   "cell_type": "code",
   "execution_count": 6,
   "metadata": {},
   "outputs": [
    {
     "name": "stdout",
     "output_type": "stream",
     "text": [
      "2024-09-21 18:18:16,402 - INFO - start of looging\n"
     ]
    }
   ],
   "source": [
    "from src.constants import *\n",
    "from src.utils.common import read_yaml,create_directories"
   ]
  },
  {
   "cell_type": "code",
   "execution_count": 7,
   "metadata": {},
   "outputs": [],
   "source": [
    "class ConfigurationManagerone:\n",
    "    def __init__(self,config_filepath=CONFIG_FILE_PATH,params_filepath=PARAMS_FILE_PATH):\n",
    "        self.config = read_yaml(config_filepath)\n",
    "        self.params = read_yaml(params_filepath)\n",
    "        create_directories([self.config.data_root])\n",
    "\n",
    "    def get_model_checkpoint_config(self) -> ModelcheckpointConfig:\n",
    "        config = self.config.Model_Checkpoint\n",
    "        create_directories([config.root_dir])\n",
    "\n",
    "        modelcheckpoint_config = ModelcheckpointConfig(\n",
    "            root_door = config.root_dir,\n",
    "            model_save= config.model_save,\n",
    "            monitor = self.params['Model_Checkpoint']['monitor'],\n",
    "            save_best_only = self.params['Model_Checkpoint']['save_best_only'],\n",
    "            save_weights_only = self.params['Model_Checkpoint']['save_weights_only'],\n",
    "            verbose = self.params['Model_Checkpoint']['verbose'],\n",
    "            patience = self.params['Early_stopping']['patience'],\n",
    "            restore_best_weights = self.params['Early_stopping']['restore_best_weights'],\n",
    "            factor= self.params['ReduceLROnPlateau']['factor'],\n",
    "            min_lr= self.params['ReduceLROnPlateau']['min_lr'],\n",
    "            existing_model=config.existing_model\n",
    "        )\n",
    "\n",
    "        return modelcheckpoint_config"
   ]
  },
  {
   "cell_type": "code",
   "execution_count": 8,
   "metadata": {},
   "outputs": [],
   "source": [
    "from tensorflow.keras.callbacks import ModelCheckpoint, EarlyStopping, ReduceLROnPlateau\n",
    "from tensorflow.keras.models import load_model\n",
    "from src.components.data_aug import DataAugmentation\n",
    "from src.entity import DataAugConfig\n",
    "from src.config.configuration import ConfigurationManager"
   ]
  },
  {
   "cell_type": "code",
   "execution_count": 9,
   "metadata": {},
   "outputs": [],
   "source": [
    "class Model_train_with_Callbacks:\n",
    "    def __init__(self,config:ModelcheckpointConfig,data_config: DataAugConfig):\n",
    "        self.config = config\n",
    "        self.data_config = data_config\n",
    "\n",
    "    @staticmethod\n",
    "    def get_the_model_chceckpoint(self):\n",
    "        model_check = ModelCheckpoint(\n",
    "        filepath = self.config.model_save,\n",
    "        monitor = self.config.monitor,\n",
    "        verbose = self.config.verbose,\n",
    "        save_best_only = self.config.save_best_only,\n",
    "        save_weights_only=self.config.save_weights_only\n",
    "\n",
    "    )\n",
    "\n",
    "        early_stopping = EarlyStopping(\n",
    "            monitor = self.config.monitor,\n",
    "            patience =self.config.patience,\n",
    "            verbose = self.config.verbose,\n",
    "            restore_best_weights = self.config.restore_best_weights\n",
    "        )\n",
    "\n",
    "        reduce_lr = ReduceLROnPlateau(\n",
    "            monitor=self.config.monitor,\n",
    "            factor=self.config.factor,\n",
    "            patience=self.config.patience,\n",
    "            min_lr=self.config.min_lr,\n",
    "    )\n",
    "        return [model_check, early_stopping, reduce_lr]\n",
    "    \n",
    "    def model_training(self):\n",
    "        model = load_model(self.config.existing_model)\n",
    "        model.compile(optimizer='adam',loss='categorical_crossentropy',metrics=['accuracy'])\n",
    "\n",
    "        obj = DataAugmentation(config=self.data_config)  \n",
    "        train_data, test_data, val_data = obj.augment_data()\n",
    "\n",
    "        cb = self.get_the_model_chceckpoint(self)\n",
    "\n",
    "        history = model.fit(train_data,epochs=1,validation_data=val_data,callbacks=cb)\n",
    "        model.save(self.config.model_save)\n",
    "        history.history\n",
    "        return history, model"
   ]
  },
  {
   "cell_type": "code",
   "execution_count": 10,
   "metadata": {},
   "outputs": [
    {
     "name": "stdout",
     "output_type": "stream",
     "text": [
      "2024-09-21 18:18:19,145 - INFO - Yaml file: config/config.yaml loaded successfully\n",
      "2024-09-21 18:18:19,147 - INFO - Yaml file: params.yaml loaded successfully\n",
      "2024-09-21 18:18:19,148 - INFO - created directory at: data\n",
      "2024-09-21 18:18:19,148 - INFO - created directory at: data/model_checkpoint\n",
      "2024-09-21 18:18:19,150 - INFO - Yaml file: config/config.yaml loaded successfully\n",
      "2024-09-21 18:18:19,152 - INFO - Yaml file: params.yaml loaded successfully\n",
      "2024-09-21 18:18:19,152 - INFO - created directory at: data\n",
      "Found 272 images belonging to 2 classes.\n",
      "Found 60 images belonging to 2 classes.\n",
      "Found 58 images belonging to 2 classes.\n"
     ]
    },
    {
     "name": "stderr",
     "output_type": "stream",
     "text": [
      "/Applications/anaconda3/envs/chkn/lib/python3.12/site-packages/keras/src/saving/saving_lib.py:713: UserWarning: Skipping variable loading for optimizer 'adam', because it has 6 variables whereas the saved optimizer has 2 variables. \n",
      "  saveable.load_own_variables(weights_store.get(inner_path))\n",
      "/Applications/anaconda3/envs/chkn/lib/python3.12/site-packages/keras/src/trainers/data_adapters/py_dataset_adapter.py:122: UserWarning: Your `PyDataset` class should call `super().__init__(**kwargs)` in its constructor. `**kwargs` can include `workers`, `use_multiprocessing`, `max_queue_size`. Do not pass these arguments to `fit()`, as they will be ignored.\n",
      "  self._warn_if_super_not_called()\n"
     ]
    },
    {
     "name": "stdout",
     "output_type": "stream",
     "text": [
      "\u001b[1m9/9\u001b[0m \u001b[32m━━━━━━━━━━━━━━━━━━━━\u001b[0m\u001b[37m\u001b[0m \u001b[1m0s\u001b[0m 3s/step - accuracy: 0.4380 - loss: 1.6532\n",
      "Epoch 1: accuracy improved from -inf to 0.53309, saving model to data/model_checkpoint/Chicken_fecal_with_callbacks.keras\n",
      "\u001b[1m9/9\u001b[0m \u001b[32m━━━━━━━━━━━━━━━━━━━━\u001b[0m\u001b[37m\u001b[0m \u001b[1m37s\u001b[0m 4s/step - accuracy: 0.4475 - loss: 1.6221 - val_accuracy: 0.8793 - val_loss: 0.3036 - learning_rate: 0.0010\n",
      "Restoring model weights from the end of the best epoch: 1.\n"
     ]
    }
   ],
   "source": [
    "try:\n",
    "    config = ConfigurationManagerone()\n",
    "    mo_one = config.get_model_checkpoint_config()\n",
    "    \n",
    "    # Fetch the data augmentation configuration\n",
    "    DataAugConfig_config = ConfigurationManager()  # Assuming this gets the data config\n",
    "    c_2 = DataAugConfig_config.get_data_aug()  # Fetch the data augmentation config\n",
    "    \n",
    "    # Pass both model checkpoint config and data augmentation config\n",
    "    mo_two = Model_train_with_Callbacks(config=mo_one, data_config=c_2)  \n",
    "    mo_two.model_training()\n",
    "except Exception as e:\n",
    "    raise e\n"
   ]
  },
  {
   "cell_type": "code",
   "execution_count": null,
   "metadata": {},
   "outputs": [],
   "source": []
  }
 ],
 "metadata": {
  "kernelspec": {
   "display_name": "chkn",
   "language": "python",
   "name": "python3"
  },
  "language_info": {
   "codemirror_mode": {
    "name": "ipython",
    "version": 3
   },
   "file_extension": ".py",
   "mimetype": "text/x-python",
   "name": "python",
   "nbconvert_exporter": "python",
   "pygments_lexer": "ipython3",
   "version": "3.12.5"
  }
 },
 "nbformat": 4,
 "nbformat_minor": 2
}
