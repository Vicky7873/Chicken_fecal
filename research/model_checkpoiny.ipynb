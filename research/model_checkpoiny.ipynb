{
 "cells": [
  {
   "cell_type": "code",
   "execution_count": 1,
   "metadata": {},
   "outputs": [],
   "source": [
    "import os"
   ]
  },
  {
   "cell_type": "code",
   "execution_count": 2,
   "metadata": {},
   "outputs": [
    {
     "data": {
      "text/plain": [
       "'/Users/bhikipallai/Desktop/Projects/Chicken_fecal/research'"
      ]
     },
     "execution_count": 2,
     "metadata": {},
     "output_type": "execute_result"
    }
   ],
   "source": [
    "%pwd"
   ]
  },
  {
   "cell_type": "code",
   "execution_count": 3,
   "metadata": {},
   "outputs": [],
   "source": [
    "os.chdir('../')"
   ]
  },
  {
   "cell_type": "code",
   "execution_count": 4,
   "metadata": {},
   "outputs": [
    {
     "data": {
      "text/plain": [
       "'/Users/bhikipallai/Desktop/Projects/Chicken_fecal'"
      ]
     },
     "execution_count": 4,
     "metadata": {},
     "output_type": "execute_result"
    }
   ],
   "source": [
    "%pwd"
   ]
  },
  {
   "cell_type": "code",
   "execution_count": 6,
   "metadata": {},
   "outputs": [],
   "source": [
    "from dataclasses import dataclass\n",
    "from pathlib import Path\n",
    "\n",
    "@dataclass(frozen=True)\n",
    "class ModelcheckpointConfig:\n",
    "    root_door: Path\n",
    "    model_save: Path\n",
    "    monitor: str\n",
    "    save_best_only: bool\n",
    "    save_weights_only: bool\n",
    "    verbose: int\n",
    "    patience: int\n",
    "    restore_best_weights: bool\n",
    "    factor: float\n",
    "    min_lr: float"
   ]
  },
  {
   "cell_type": "code",
   "execution_count": 7,
   "metadata": {},
   "outputs": [],
   "source": [
    "from src.constants import *\n",
    "from src.utils.common import read_yaml,create_directories"
   ]
  },
  {
   "cell_type": "code",
   "execution_count": 16,
   "metadata": {},
   "outputs": [],
   "source": [
    "class ConfigurationManager:\n",
    "    def __init__(self,config_filepath=CONFIG_FILE_PATH,params_filepath=PARAMS_FILE_PATH):\n",
    "        self.config = read_yaml(config_filepath)\n",
    "        self.params = read_yaml(params_filepath)\n",
    "        create_directories([self.config.data_root])\n",
    "\n",
    "    def get_model_checkpoint_config(self) -> ModelcheckpointConfig:\n",
    "        config = self.config.Model_Checkpoint\n",
    "        create_directories([config.root_dir])\n",
    "\n",
    "        modelcheckpoint_config = ModelcheckpointConfig(\n",
    "            root_door = config.root_dir,\n",
    "            model_save= config.model_save,\n",
    "            monitor = self.params['Model_Checkpoint']['monitor'],\n",
    "            save_best_only = self.params['Model_Checkpoint']['save_best_only'],\n",
    "            save_weights_only = self.params['Model_Checkpoint']['save_weights_only'],\n",
    "            verbose = self.params['Model_Checkpoint']['verbose'],\n",
    "            patience = self.params['Early_stopping']['patience'],\n",
    "            restore_best_weights = self.params['Early_stopping']['restore_best_weights'],\n",
    "            factor= self.params['ReduceLROnPlateau']['factor'],\n",
    "            min_lr= self.params['ReduceLROnPlateau']['min_lr']\n",
    "        )\n",
    "\n",
    "        return modelcheckpoint_config"
   ]
  },
  {
   "cell_type": "code",
   "execution_count": 17,
   "metadata": {},
   "outputs": [],
   "source": [
    "from tensorflow.keras.callbacks import ModelCheckpoint, EarlyStopping, ReduceLROnPlateau"
   ]
  },
  {
   "cell_type": "code",
   "execution_count": 24,
   "metadata": {},
   "outputs": [],
   "source": [
    "class ModelCheckpointManager:\n",
    "    def __init__(self,config:ModelcheckpointConfig):\n",
    "        self.config = config\n",
    "\n",
    "    def get_the_model_chceckpoint(self):\n",
    "        model_check = ModelCheckpoint(\n",
    "        filepath = self.config.model_save,\n",
    "        monitor = self.config.monitor,\n",
    "        verbose = self.config.verbose,\n",
    "        save_best_only = self.config.save_best_only,\n",
    "        save_weights_only=self.config.save_weights_only\n",
    "\n",
    "    )\n",
    "\n",
    "        early_stopping = EarlyStopping(\n",
    "            monitor = self.config.monitor,\n",
    "            patience =self.config.patience,\n",
    "            verbose = self.config.verbose,\n",
    "            restore_best_weights = self.config.restore_best_weights\n",
    "        )\n",
    "\n",
    "        reduce_lr = ReduceLROnPlateau(\n",
    "            monitor=self.config.monitor,\n",
    "            factor=self.config.factor,\n",
    "            patience=self.config.patience,\n",
    "            min_lr=self.config.min_lr,\n",
    "    )\n",
    "        # Print the ModelCheckpoint variables\n",
    "        print(\"Model Checkpoint Configuration:\")\n",
    "        print(f\"Filepath: {self.config.model_save}\")\n",
    "        print(f\"Monitor: {self.config.monitor}\")\n",
    "        print(f\"Verbose: {self.config.verbose}\")\n",
    "        print(f\"Save Best Only: {self.config.save_best_only}\")\n",
    "        print(f\"Save Weights Only: {self.config.save_weights_only}\")\n",
    "\n",
    "        # Print the EarlyStopping variables\n",
    "        print(\"\\nEarly Stopping Configuration:\")\n",
    "        print(f\"Monitor: {self.config.monitor}\")\n",
    "        print(f\"Patience: {self.config.patience}\")\n",
    "        print(f\"Verbose: {self.config.verbose}\")\n",
    "        print(f\"Restore Best Weights: {self.config.restore_best_weights}\")\n",
    "\n",
    "        # Print the ReduceLROnPlateau variables\n",
    "        print(\"\\nReduce Learning Rate Configuration:\")\n",
    "        print(f\"Monitor: {self.config.monitor}\")\n",
    "        print(f\"Factor: {self.config.factor}\")\n",
    "        print(f\"Patience: {self.config.patience}\")\n",
    "        print(f\"Min LR: {self.config.min_lr}\")\n",
    "\n",
    "\n",
    "        return model_check, early_stopping, reduce_lr"
   ]
  },
  {
   "cell_type": "code",
   "execution_count": 19,
   "metadata": {},
   "outputs": [],
   "source": [
    "from tensorflow.keras.models import load_model"
   ]
  },
  {
   "cell_type": "code",
   "execution_count": 20,
   "metadata": {},
   "outputs": [
    {
     "name": "stderr",
     "output_type": "stream",
     "text": [
      "/Applications/anaconda3/envs/chkn/lib/python3.12/site-packages/keras/src/saving/saving_lib.py:713: UserWarning: Skipping variable loading for optimizer 'adam', because it has 6 variables whereas the saved optimizer has 2 variables. \n",
      "  saveable.load_own_variables(weights_store.get(inner_path))\n"
     ]
    }
   ],
   "source": [
    "model = load_model('data/model_building/Chicken_fecal.keras')"
   ]
  },
  {
   "cell_type": "code",
   "execution_count": 25,
   "metadata": {},
   "outputs": [
    {
     "name": "stdout",
     "output_type": "stream",
     "text": [
      "2024-09-20 21:34:48,346 - INFO - Yaml file: config/config.yaml loaded successfully\n",
      "2024-09-20 21:34:48,349 - INFO - Yaml file: params.yaml loaded successfully\n",
      "2024-09-20 21:34:48,350 - INFO - created directory at: data\n",
      "2024-09-20 21:34:48,353 - INFO - created directory at: data/model_checkpoint\n",
      "Model Checkpoint Configuration:\n",
      "Filepath: data/model_checkpoint/Chicken_fecal.keras\n",
      "Monitor: accuracy\n",
      "Verbose: 1\n",
      "Save Best Only: True\n",
      "Save Weights Only: False\n",
      "\n",
      "Early Stopping Configuration:\n",
      "Monitor: accuracy\n",
      "Patience: 2\n",
      "Verbose: 1\n",
      "Restore Best Weights: True\n",
      "\n",
      "Reduce Learning Rate Configuration:\n",
      "Monitor: accuracy\n",
      "Factor: 0.2\n",
      "Patience: 2\n",
      "Min LR: 0.0001\n",
      "<keras.src.callbacks.model_checkpoint.ModelCheckpoint object at 0x161799250>\n",
      "No issue with code\n"
     ]
    }
   ],
   "source": [
    "try:\n",
    "    config = ConfigurationManager()\n",
    "    chk_config = config.get_model_checkpoint_config()\n",
    "    model_checkpoint = ModelCheckpointManager(config=chk_config)\n",
    "    model_check, early_stopping, reduce_lr = model_checkpoint.get_the_model_chceckpoint()\n",
    "    print(model_check)\n",
    "    print(\"No issue with code\")\n",
    "except Exception as e:\n",
    "    raise e"
   ]
  },
  {
   "cell_type": "code",
   "execution_count": null,
   "metadata": {},
   "outputs": [],
   "source": []
  }
 ],
 "metadata": {
  "kernelspec": {
   "display_name": "chkn",
   "language": "python",
   "name": "python3"
  },
  "language_info": {
   "codemirror_mode": {
    "name": "ipython",
    "version": 3
   },
   "file_extension": ".py",
   "mimetype": "text/x-python",
   "name": "python",
   "nbconvert_exporter": "python",
   "pygments_lexer": "ipython3",
   "version": "3.12.5"
  }
 },
 "nbformat": 4,
 "nbformat_minor": 2
}
