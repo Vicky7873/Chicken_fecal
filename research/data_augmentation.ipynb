{
 "cells": [
  {
   "cell_type": "code",
   "execution_count": 1,
   "metadata": {},
   "outputs": [],
   "source": [
    "import os"
   ]
  },
  {
   "cell_type": "code",
   "execution_count": 2,
   "metadata": {},
   "outputs": [
    {
     "data": {
      "text/plain": [
       "'/Users/bhikipallai/Desktop/Projects/Chicken_fecal/research'"
      ]
     },
     "execution_count": 2,
     "metadata": {},
     "output_type": "execute_result"
    }
   ],
   "source": [
    "%pwd"
   ]
  },
  {
   "cell_type": "code",
   "execution_count": 3,
   "metadata": {},
   "outputs": [],
   "source": [
    "os.chdir('../.')"
   ]
  },
  {
   "cell_type": "code",
   "execution_count": 4,
   "metadata": {},
   "outputs": [
    {
     "data": {
      "text/plain": [
       "'/Users/bhikipallai/Desktop/Projects/Chicken_fecal'"
      ]
     },
     "execution_count": 4,
     "metadata": {},
     "output_type": "execute_result"
    }
   ],
   "source": [
    "%pwd"
   ]
  },
  {
   "cell_type": "code",
   "execution_count": 5,
   "metadata": {},
   "outputs": [],
   "source": [
    "from dataclasses import dataclass\n",
    "from pathlib import Path\n",
    "\n",
    "@dataclass(frozen=True)\n",
    "class DataAugConfig:\n",
    "    root_dir: Path\n",
    "    train_data: Path\n",
    "    test_data: Path\n",
    "    val_data: Path\n",
    "    train_data_aug: Path\n",
    "    test_data_aug: Path\n",
    "    val_data_aug: Path\n",
    "    horizontal_flip: bool\n",
    "    vertical_flip: bool\n",
    "    rotation_range: int\n",
    "    zoom_range: float\n",
    "    shear_range: float\n",
    "    width_shift_range: float\n",
    "    height_shift_range: float\n",
    "    target_size: tuple"
   ]
  },
  {
   "cell_type": "code",
   "execution_count": 6,
   "metadata": {},
   "outputs": [
    {
     "name": "stdout",
     "output_type": "stream",
     "text": [
      "2024-09-18 22:13:49,297 - INFO - start of looging\n"
     ]
    }
   ],
   "source": [
    "from src.constants import *\n",
    "from src.utils.common import read_yaml, create_directories"
   ]
  },
  {
   "cell_type": "code",
   "execution_count": 7,
   "metadata": {},
   "outputs": [],
   "source": [
    "class ConfigurationManager:\n",
    "    def __init__(self,confi_file_path = CONFIG_FILE_PATH,params_file_path = PARAMS_FILE_PATH):\n",
    "        self.config = read_yaml(confi_file_path)\n",
    "        self.params = read_yaml(params_file_path)\n",
    "\n",
    "        create_directories([self.config['data_root']])\n",
    "\n",
    "    \n",
    "    def get_data_aug(self) -> DataAugConfig:\n",
    "        config = self.config.data_aug\n",
    "        params = self.params.AUGMENTATION\n",
    "\n",
    "        model_config = DataAugConfig(\n",
    "            root_dir=config.root_dir,\n",
    "            train_data= config.train_data,\n",
    "            test_data=config.test_data,\n",
    "            val_data=config.val_data,\n",
    "            train_data_aug=config.train_data_aug,\n",
    "            test_data_aug=config.test_data_aug,\n",
    "            val_data_aug=config.val_data_aug,\n",
    "            horizontal_flip=params.horizontal_flip,\n",
    "            vertical_flip=params.vertical_flip,\n",
    "            rotation_range=params.rotation_range,\n",
    "            zoom_range=params.zoom_range,\n",
    "            shear_range=params.shear_range,\n",
    "            width_shift_range=params.width_shift_range,\n",
    "            height_shift_range=params.height_shift_range,\n",
    "            target_size=params.target_size\n",
    "        )\n",
    "\n",
    "        return model_config\n",
    "        "
   ]
  },
  {
   "cell_type": "code",
   "execution_count": 8,
   "metadata": {},
   "outputs": [],
   "source": [
    "from log import logger\n",
    "import tensorflow as tf\n",
    "from tensorflow.keras.preprocessing.image import ImageDataGenerator,load_img\n",
    "import numpy as np"
   ]
  },
  {
   "cell_type": "code",
   "execution_count": 9,
   "metadata": {},
   "outputs": [],
   "source": [
    "# from keras.preprocessing.image import ImageDataGenerator\n",
    "class DataAugmentation:\n",
    "    def __init__(self,config:DataAugConfig):\n",
    "        self.config = config\n",
    "\n",
    "    def augment_data(self):\n",
    "\n",
    "        for path in [\n",
    "            self.config.train_data_aug,\n",
    "            self.config.test_data_aug,\n",
    "            self.config.val_data_aug\n",
    "        ]:\n",
    "            Path(path).mkdir(parents=True, exist_ok=True)\n",
    "\n",
    "        train_data= self.config.train_data\n",
    "        test_data=self.config.test_data\n",
    "        val_data=self.config.val_data\n",
    "        train_data_aug=self.config.train_data_aug\n",
    "        test_data_aug=self.config.test_data_aug\n",
    "        val_data_aug=self.config.val_data_aug\n",
    "        horizontal_flip=self.config.horizontal_flip\n",
    "        vertical_flip=self.config.vertical_flip\n",
    "        rotation_range=self.config.rotation_range\n",
    "        zoom_range=float(self.config.zoom_range)\n",
    "        shear_range=self.config.shear_range\n",
    "        width_shift_range=self.config.width_shift_range\n",
    "        height_shift_range=self.config.height_shift_range\n",
    "        target_size=tuple(self.config.target_size)\n",
    "\n",
    "        train_datagen = ImageDataGenerator(\n",
    "            rescale=1./255,\n",
    "            horizontal_flip=horizontal_flip,\n",
    "            vertical_flip=vertical_flip,\n",
    "            rotation_range=rotation_range,\n",
    "            zoom_range=zoom_range,\n",
    "            shear_range=shear_range,\n",
    "            width_shift_range=width_shift_range,\n",
    "            height_shift_range=height_shift_range\n",
    "        )\n",
    "\n",
    "        test_datagen = ImageDataGenerator(\n",
    "            rescale=1./255\n",
    "        )\n",
    "\n",
    "        val_datagen = ImageDataGenerator(\n",
    "            rescale=1./255\n",
    "        )\n",
    "\n",
    "        train_data_aug = train_datagen.flow_from_directory(\n",
    "            train_data,\n",
    "            target_size=target_size\n",
    "        )\n",
    "\n",
    "        test_data_aug = test_datagen.flow_from_directory(\n",
    "            test_data,\n",
    "            target_size=target_size\n",
    "        )\n",
    "\n",
    "        val_data_aug = val_datagen.flow_from_directory(\n",
    "            val_data,\n",
    "            target_size=target_size\n",
    "        )\n",
    "\n",
    "        return train_data_aug, test_data_aug, val_data_aug\n",
    "    \n",
    "        \n",
    "\n"
   ]
  },
  {
   "cell_type": "code",
   "execution_count": 10,
   "metadata": {},
   "outputs": [
    {
     "name": "stdout",
     "output_type": "stream",
     "text": [
      "2024-09-18 22:13:52,567 - INFO - Yaml file: config/config.yaml loaded successfully\n",
      "2024-09-18 22:13:52,568 - INFO - Yaml file: params.yaml loaded successfully\n",
      "2024-09-18 22:13:52,569 - INFO - created directory at: data\n",
      "Found 272 images belonging to 2 classes.\n",
      "Found 60 images belonging to 2 classes.\n",
      "Found 58 images belonging to 2 classes.\n"
     ]
    }
   ],
   "source": [
    "try:\n",
    "    config = ConfigurationManager()\n",
    "    data_aug_config = config.get_data_aug()\n",
    "    data_au = DataAugmentation(config=data_aug_config)\n",
    "    data_au.augment_data()\n",
    "except Exception as e:\n",
    "    raise e"
   ]
  },
  {
   "cell_type": "code",
   "execution_count": null,
   "metadata": {},
   "outputs": [],
   "source": []
  }
 ],
 "metadata": {
  "kernelspec": {
   "display_name": "chkn",
   "language": "python",
   "name": "python3"
  },
  "language_info": {
   "codemirror_mode": {
    "name": "ipython",
    "version": 3
   },
   "file_extension": ".py",
   "mimetype": "text/x-python",
   "name": "python",
   "nbconvert_exporter": "python",
   "pygments_lexer": "ipython3",
   "version": "3.12.5"
  }
 },
 "nbformat": 4,
 "nbformat_minor": 2
}
