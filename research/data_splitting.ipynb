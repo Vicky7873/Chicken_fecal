{
 "cells": [
  {
   "cell_type": "code",
   "execution_count": 1,
   "metadata": {},
   "outputs": [],
   "source": [
    "import os"
   ]
  },
  {
   "cell_type": "code",
   "execution_count": 2,
   "metadata": {},
   "outputs": [
    {
     "data": {
      "text/plain": [
       "'/Users/bhikipallai/Desktop/Projects/Chicken_fecal/research'"
      ]
     },
     "execution_count": 2,
     "metadata": {},
     "output_type": "execute_result"
    }
   ],
   "source": [
    "%pwd"
   ]
  },
  {
   "cell_type": "code",
   "execution_count": 3,
   "metadata": {},
   "outputs": [],
   "source": [
    "os.chdir('../.')"
   ]
  },
  {
   "cell_type": "code",
   "execution_count": 4,
   "metadata": {},
   "outputs": [
    {
     "data": {
      "text/plain": [
       "'/Users/bhikipallai/Desktop/Projects/Chicken_fecal'"
      ]
     },
     "execution_count": 4,
     "metadata": {},
     "output_type": "execute_result"
    }
   ],
   "source": [
    "%pwd"
   ]
  },
  {
   "cell_type": "code",
   "execution_count": 5,
   "metadata": {},
   "outputs": [],
   "source": [
    "from dataclasses import dataclass\n",
    "from pathlib import Path\n",
    "\n",
    "@dataclass(frozen=True)\n",
    "class DataSplittingConfig:\n",
    "    root_dir: Path\n",
    "    raw_data_dir: Path\n",
    "    output_data: Path\n",
    "    ratio: tuple\n",
    "    "
   ]
  },
  {
   "cell_type": "code",
   "execution_count": 6,
   "metadata": {},
   "outputs": [
    {
     "name": "stdout",
     "output_type": "stream",
     "text": [
      "2024-09-18 20:19:03,683 - INFO - start of looging\n"
     ]
    }
   ],
   "source": [
    "from src.constants import *\n",
    "from src.utils.common import read_yaml, create_directories"
   ]
  },
  {
   "cell_type": "code",
   "execution_count": 7,
   "metadata": {},
   "outputs": [],
   "source": [
    "class ConfigurationManager:\n",
    "    def __init__(self,config_filepath = CONFIG_FILE_PATH,params_filepath = PARAMS_FILE_PATH):\n",
    "        self.config = read_yaml(config_filepath)\n",
    "        self.params = read_yaml(params_filepath)\n",
    "\n",
    "        create_directories([self.config.data_root])\n",
    "\n",
    "    def get_data_spllitting(self) -> DataSplittingConfig:\n",
    "        config = self.config.data_splitting\n",
    "\n",
    "        create_directories([config.root_dir])\n",
    "\n",
    "        data_splitting_config = DataSplittingConfig(\n",
    "            root_dir=config.root_dir,\n",
    "            raw_data_dir=config.raw_data_dir,\n",
    "            output_data=config.output_data,\n",
    "            ratio=self.params.ratio\n",
    "        )\n",
    "\n",
    "        return data_splitting_config"
   ]
  },
  {
   "cell_type": "code",
   "execution_count": 8,
   "metadata": {},
   "outputs": [],
   "source": [
    "import os\n",
    "import splitfolders\n",
    "from log import logger"
   ]
  },
  {
   "cell_type": "code",
   "execution_count": 9,
   "metadata": {},
   "outputs": [],
   "source": [
    "class DataSplitting:\n",
    "    def __init__(self,config: DataSplittingConfig):\n",
    "        self.config = config\n",
    "\n",
    "    def split_data(self):\n",
    "        raw_data_dir = self.config.raw_data_dir\n",
    "        output_data = self.config.output_data\n",
    "        ratio = self.config.ratio\n",
    "        if isinstance(ratio, str):\n",
    "            ratio = eval(ratio)\n",
    "            \n",
    "        splitfolders.ratio(raw_data_dir, output_data, seed=1337, ratio=tuple(ratio))\n",
    "        logger.info(\"Data splitting completed\")"
   ]
  },
  {
   "cell_type": "code",
   "execution_count": 10,
   "metadata": {},
   "outputs": [
    {
     "name": "stdout",
     "output_type": "stream",
     "text": [
      "2024-09-18 20:19:03,930 - INFO - Yaml file: config/config.yaml loaded successfully\n",
      "2024-09-18 20:19:03,932 - INFO - Yaml file: params.yaml loaded successfully\n",
      "2024-09-18 20:19:03,945 - INFO - created directory at: data\n",
      "2024-09-18 20:19:03,946 - INFO - created directory at: data/data_splitting\n"
     ]
    },
    {
     "name": "stderr",
     "output_type": "stream",
     "text": [
      "Copying files: 390 files [00:00, 2848.21 files/s]"
     ]
    },
    {
     "name": "stdout",
     "output_type": "stream",
     "text": [
      "2024-09-18 20:19:04,089 - INFO - Data splitting completed\n"
     ]
    },
    {
     "name": "stderr",
     "output_type": "stream",
     "text": [
      "\n"
     ]
    }
   ],
   "source": [
    "import logging\n",
    "try:\n",
    "    config = ConfigurationManager()\n",
    "    split_config = config.get_data_spllitting()\n",
    "    data_splitter = DataSplitting(config=split_config)\n",
    "    data_splitter.split_data()\n",
    "except Exception as e:\n",
    "    raise e"
   ]
  },
  {
   "cell_type": "code",
   "execution_count": null,
   "metadata": {},
   "outputs": [],
   "source": []
  }
 ],
 "metadata": {
  "kernelspec": {
   "display_name": "chkn",
   "language": "python",
   "name": "python3"
  },
  "language_info": {
   "codemirror_mode": {
    "name": "ipython",
    "version": 3
   },
   "file_extension": ".py",
   "mimetype": "text/x-python",
   "name": "python",
   "nbconvert_exporter": "python",
   "pygments_lexer": "ipython3",
   "version": "3.12.5"
  }
 },
 "nbformat": 4,
 "nbformat_minor": 2
}
