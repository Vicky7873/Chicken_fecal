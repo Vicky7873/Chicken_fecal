{
 "cells": [
  {
   "cell_type": "code",
   "execution_count": 1,
   "metadata": {},
   "outputs": [],
   "source": [
    "import os"
   ]
  },
  {
   "cell_type": "code",
   "execution_count": 2,
   "metadata": {},
   "outputs": [
    {
     "data": {
      "text/plain": [
       "'/Users/bhikipallai/Desktop/Projects/Chicken_fecal/research'"
      ]
     },
     "execution_count": 2,
     "metadata": {},
     "output_type": "execute_result"
    }
   ],
   "source": [
    "%pwd"
   ]
  },
  {
   "cell_type": "code",
   "execution_count": 3,
   "metadata": {},
   "outputs": [],
   "source": [
    "os.chdir('../.')"
   ]
  },
  {
   "cell_type": "code",
   "execution_count": 4,
   "metadata": {},
   "outputs": [
    {
     "data": {
      "text/plain": [
       "'/Users/bhikipallai/Desktop/Projects/Chicken_fecal'"
      ]
     },
     "execution_count": 4,
     "metadata": {},
     "output_type": "execute_result"
    }
   ],
   "source": [
    "%pwd"
   ]
  },
  {
   "cell_type": "code",
   "execution_count": 5,
   "metadata": {},
   "outputs": [],
   "source": [
    "from dataclasses import dataclass\n",
    "from pathlib import Path\n",
    "\n",
    "@dataclass(frozen=True)\n",
    "class ModelEvaluationConfig:\n",
    "    root_dir: Path\n",
    "    model_path: Path\n",
    "    score: Path    "
   ]
  },
  {
   "cell_type": "code",
   "execution_count": 6,
   "metadata": {},
   "outputs": [
    {
     "name": "stdout",
     "output_type": "stream",
     "text": [
      "2024-09-22 00:09:14,814 - INFO - start of looging\n"
     ]
    }
   ],
   "source": [
    "from src.constants import *\n",
    "from src.utils.common import read_yaml,save_json,create_directories"
   ]
  },
  {
   "cell_type": "code",
   "execution_count": 7,
   "metadata": {},
   "outputs": [],
   "source": [
    "class ConfigurationManagerone:\n",
    "    def __init__(self,config_filepath = CONFIG_FILE_PATH,params_filepath = PARAMS_FILE_PATH):\n",
    "        self.config = read_yaml(config_filepath)\n",
    "        self.params = read_yaml(params_filepath)\n",
    "\n",
    "        create_directories([self.config.data_root])\n",
    "\n",
    "    def get_model_evaluation_config(self) -> ModelEvaluationConfig:\n",
    "        config = self.config.Model_Evaluation\n",
    "        create_directories([config.root_dir])\n",
    "        model_evaluation_config = ModelEvaluationConfig(\n",
    "            root_dir = config.root_dir,\n",
    "            model_path = config.model_path,\n",
    "            score = config.score\n",
    "        )\n",
    "        return model_evaluation_config"
   ]
  },
  {
   "cell_type": "code",
   "execution_count": 8,
   "metadata": {},
   "outputs": [],
   "source": [
    "from tensorflow.keras.callbacks import ModelCheckpoint, EarlyStopping, ReduceLROnPlateau\n",
    "from tensorflow.keras.models import load_model\n",
    "from src.components.data_aug import DataAugmentation\n",
    "from src.entity import DataAugConfig\n",
    "from src.config.configuration import ConfigurationManager"
   ]
  },
  {
   "cell_type": "code",
   "execution_count": 9,
   "metadata": {},
   "outputs": [],
   "source": [
    "class ModelEvaluation:\n",
    "    def __init__(self,config:ModelEvaluationConfig,evl_config:DataAugmentation):\n",
    "        self.config = config\n",
    "        self.data_config = evl_config\n",
    "\n",
    "    def model_load(self):\n",
    "        model = load_model(self.config.model_path)\n",
    "        return model\n",
    "\n",
    "    def model_evaluate(self):\n",
    "        model = self.model_load()\n",
    "        obj = DataAugmentation(self.data_config)\n",
    "        train_data, test_data, val_data = obj.augment_data()\n",
    "\n",
    "        self.train_acc = model.evaluate(train_data, verbose=0)[1]\n",
    "        self.test_acc = model.evaluate(test_data, verbose=0)[1]\n",
    "        \n",
    "        print(f\"Training Accuracy: {self.train_acc * 100:.2f}%\")\n",
    "        print(f\"Testing Accuracy: {self.test_acc * 100:.2f}%\")\n",
    "\n",
    "    def save_score(self):\n",
    "        scores = {\n",
    "            \"train_acc\": self.train_acc,\n",
    "            \"test_acc\": self.test_acc\n",
    "        }\n",
    "        json_path = self.config.score\n",
    "        save_json(path = Path(json_path), data = scores)"
   ]
  },
  {
   "cell_type": "code",
   "execution_count": 10,
   "metadata": {},
   "outputs": [
    {
     "name": "stdout",
     "output_type": "stream",
     "text": [
      "2024-09-22 00:09:17,333 - INFO - Yaml file: config/config.yaml loaded successfully\n",
      "2024-09-22 00:09:17,336 - INFO - Yaml file: params.yaml loaded successfully\n",
      "2024-09-22 00:09:17,336 - INFO - created directory at: data\n",
      "2024-09-22 00:09:17,337 - INFO - created directory at: data/model_evaluation\n",
      "2024-09-22 00:09:17,338 - INFO - Yaml file: config/config.yaml loaded successfully\n",
      "2024-09-22 00:09:17,340 - INFO - Yaml file: params.yaml loaded successfully\n",
      "2024-09-22 00:09:17,340 - INFO - created directory at: data\n",
      "Found 272 images belonging to 2 classes.\n",
      "Found 60 images belonging to 2 classes.\n",
      "Found 58 images belonging to 2 classes.\n"
     ]
    },
    {
     "name": "stderr",
     "output_type": "stream",
     "text": [
      "/Applications/anaconda3/envs/chkn/lib/python3.12/site-packages/keras/src/trainers/data_adapters/py_dataset_adapter.py:122: UserWarning: Your `PyDataset` class should call `super().__init__(**kwargs)` in its constructor. `**kwargs` can include `workers`, `use_multiprocessing`, `max_queue_size`. Do not pass these arguments to `fit()`, as they will be ignored.\n",
      "  self._warn_if_super_not_called()\n"
     ]
    },
    {
     "name": "stdout",
     "output_type": "stream",
     "text": [
      "Training Accuracy: 79.41%\n",
      "Testing Accuracy: 93.33%\n",
      "2024-09-22 00:09:54,820 - INFO - json file saved at: data/model_evaluation/chicken_score.json\n"
     ]
    }
   ],
   "source": [
    "try:\n",
    "    config = ConfigurationManagerone()\n",
    "    eval_config = config.get_model_evaluation_config()\n",
    "\n",
    "    data_confog = ConfigurationManager()\n",
    "    aug_config = data_confog.get_data_aug()\n",
    "\n",
    "    model_eval = ModelEvaluation(config = eval_config, evl_config = aug_config)\n",
    "    model_eval.model_evaluate()\n",
    "    model_eval.save_score()\n",
    "except Exception as e:\n",
    "    raise e"
   ]
  },
  {
   "cell_type": "code",
   "execution_count": null,
   "metadata": {},
   "outputs": [],
   "source": []
  }
 ],
 "metadata": {
  "kernelspec": {
   "display_name": "chkn",
   "language": "python",
   "name": "python3"
  },
  "language_info": {
   "codemirror_mode": {
    "name": "ipython",
    "version": 3
   },
   "file_extension": ".py",
   "mimetype": "text/x-python",
   "name": "python",
   "nbconvert_exporter": "python",
   "pygments_lexer": "ipython3",
   "version": "3.12.5"
  }
 },
 "nbformat": 4,
 "nbformat_minor": 2
}
