{
 "cells": [
  {
   "cell_type": "code",
   "execution_count": 1,
   "metadata": {},
   "outputs": [],
   "source": [
    "import os"
   ]
  },
  {
   "cell_type": "code",
   "execution_count": 2,
   "metadata": {},
   "outputs": [
    {
     "data": {
      "text/plain": [
       "'/Users/bhikipallai/Desktop/Projects/Chicken_fecal/research'"
      ]
     },
     "execution_count": 2,
     "metadata": {},
     "output_type": "execute_result"
    }
   ],
   "source": [
    "%pwd"
   ]
  },
  {
   "cell_type": "code",
   "execution_count": 3,
   "metadata": {},
   "outputs": [],
   "source": [
    "os.chdir('../.')"
   ]
  },
  {
   "cell_type": "code",
   "execution_count": 4,
   "metadata": {},
   "outputs": [
    {
     "data": {
      "text/plain": [
       "'/Users/bhikipallai/Desktop/Projects/Chicken_fecal'"
      ]
     },
     "execution_count": 4,
     "metadata": {},
     "output_type": "execute_result"
    }
   ],
   "source": [
    "%pwd"
   ]
  },
  {
   "cell_type": "code",
   "execution_count": 5,
   "metadata": {},
   "outputs": [
    {
     "data": {
      "text/html": [
       "<pre style=\"white-space:pre;overflow-x:auto;line-height:normal;font-family:Menlo,'DejaVu Sans Mono',consolas,'Courier New',monospace\">Accessing as Vicky7873\n",
       "</pre>\n"
      ],
      "text/plain": [
       "Accessing as Vicky7873\n"
      ]
     },
     "metadata": {},
     "output_type": "display_data"
    },
    {
     "data": {
      "text/html": [
       "<pre style=\"white-space:pre;overflow-x:auto;line-height:normal;font-family:Menlo,'DejaVu Sans Mono',consolas,'Courier New',monospace\">Initialized MLflow to track repo <span style=\"color: #008000; text-decoration-color: #008000\">\"Vicky7873/Chicken_fecal\"</span>\n",
       "</pre>\n"
      ],
      "text/plain": [
       "Initialized MLflow to track repo \u001b[32m\"Vicky7873/Chicken_fecal\"\u001b[0m\n"
      ]
     },
     "metadata": {},
     "output_type": "display_data"
    },
    {
     "data": {
      "text/html": [
       "<pre style=\"white-space:pre;overflow-x:auto;line-height:normal;font-family:Menlo,'DejaVu Sans Mono',consolas,'Courier New',monospace\">Repository Vicky7873/Chicken_fecal initialized!\n",
       "</pre>\n"
      ],
      "text/plain": [
       "Repository Vicky7873/Chicken_fecal initialized!\n"
      ]
     },
     "metadata": {},
     "output_type": "display_data"
    },
    {
     "name": "stderr",
     "output_type": "stream",
     "text": [
      "2024/09/22 22:52:48 INFO mlflow.tracking._tracking_service.client: 🏃 View run righteous-shrike-683 at: https://dagshub.com/Vicky7873/Chicken_fecal.mlflow/#/experiments/0/runs/4a91fdc0e84a48649c6d9097d5be86eb.\n",
      "2024/09/22 22:52:48 INFO mlflow.tracking._tracking_service.client: 🧪 View experiment at: https://dagshub.com/Vicky7873/Chicken_fecal.mlflow/#/experiments/0.\n"
     ]
    }
   ],
   "source": [
    "import dagshub\n",
    "dagshub.init(repo_owner='Vicky7873', repo_name='Chicken_fecal', mlflow=True)\n",
    "\n",
    "import mlflow\n",
    "with mlflow.start_run():\n",
    "  mlflow.log_param('parameter name', 'value')\n",
    "  mlflow.log_metric('metric name', 1)"
   ]
  },
  {
   "cell_type": "code",
   "execution_count": 6,
   "metadata": {},
   "outputs": [],
   "source": [
    "from dataclasses import dataclass\n",
    "from pathlib import Path\n",
    "\n",
    "@dataclass(frozen=True)\n",
    "class ModelEvaluationConfig:\n",
    "    root_dir: Path\n",
    "    model_path: Path\n",
    "    score: Path\n",
    "    mlflow_uri: str \n",
    "    all_params: dict"
   ]
  },
  {
   "cell_type": "code",
   "execution_count": 7,
   "metadata": {},
   "outputs": [
    {
     "name": "stdout",
     "output_type": "stream",
     "text": [
      "2024-09-22 22:52:49,083 - INFO - start of looging\n"
     ]
    }
   ],
   "source": [
    "from src.constants import *\n",
    "from src.utils.common import read_yaml,save_json,create_directories"
   ]
  },
  {
   "cell_type": "code",
   "execution_count": 8,
   "metadata": {},
   "outputs": [],
   "source": [
    "class ConfigurationManagerone:\n",
    "    def __init__(self,config_filepath = CONFIG_FILE_PATH,params_filepath = PARAMS_FILE_PATH):\n",
    "        self.config = read_yaml(config_filepath)\n",
    "        self.params = read_yaml(params_filepath)\n",
    "\n",
    "        create_directories([self.config.data_root])\n",
    "\n",
    "    def get_model_evaluation_config(self) -> ModelEvaluationConfig:\n",
    "        config = self.config.Model_Evaluation\n",
    "        create_directories([config.root_dir])\n",
    "        model_evaluation_config = ModelEvaluationConfig(\n",
    "            root_dir = config.root_dir,\n",
    "            model_path = config.model_path,\n",
    "            score = config.score,\n",
    "            mlflow_uri='https://dagshub.com/Vicky7873/Chicken_fecal.mlflow',\n",
    "            all_params=self.params\n",
    "        )\n",
    "        return model_evaluation_config"
   ]
  },
  {
   "cell_type": "code",
   "execution_count": 9,
   "metadata": {},
   "outputs": [],
   "source": [
    "from tensorflow.keras.callbacks import ModelCheckpoint, EarlyStopping, ReduceLROnPlateau\n",
    "from tensorflow.keras.models import load_model\n",
    "from src.components.data_aug import DataAugmentation\n",
    "from src.entity import DataAugConfig\n",
    "from src.config.configuration import ConfigurationManager"
   ]
  },
  {
   "cell_type": "code",
   "execution_count": 10,
   "metadata": {},
   "outputs": [],
   "source": [
    "import mlflow\n",
    "import mlflow.keras"
   ]
  },
  {
   "cell_type": "code",
   "execution_count": 17,
   "metadata": {},
   "outputs": [],
   "source": [
    "import mlflow.entities\n",
    "\n",
    "\n",
    "class ModelEvaluation:\n",
    "    def __init__(self,config:ModelEvaluationConfig,evl_config:DataAugmentation):\n",
    "        self.config = config\n",
    "        self.data_config = evl_config\n",
    "\n",
    "    def model_load(self):\n",
    "        model = load_model(self.config.model_path)\n",
    "        return model\n",
    "\n",
    "    def model_evaluate(self):\n",
    "        model = self.model_load()\n",
    "        obj = DataAugmentation(self.data_config)\n",
    "        train_data, test_data, val_data = obj.augment_data()\n",
    "\n",
    "        self.train_acc = model.evaluate(train_data, verbose=0)[1]\n",
    "        self.test_acc = model.evaluate(test_data, verbose=0)[1]\n",
    "        \n",
    "        print(f\"Training Accuracy: {self.train_acc * 100:.2f}%\")\n",
    "        print(f\"Testing Accuracy: {self.test_acc * 100:.2f}%\")\n",
    "\n",
    "    def save_score(self):\n",
    "        scores = {\n",
    "            \"train_acc\": self.train_acc,\n",
    "            \"test_acc\": self.test_acc\n",
    "        }\n",
    "        json_path = self.config.score\n",
    "        save_json(path = Path(json_path), data = scores)\n",
    "\n",
    "    def log_model_mlfow(self):\n",
    "        mlflow.set_registry_uri(self.config.mlflow_uri)\n",
    "        mlflow.set_experiment(\"Mlflow Bhiki\")\n",
    "\n",
    "        with mlflow.start_run():\n",
    "            mlflow.log_metric(\"train_acc\", self.train_acc)\n",
    "            mlflow.log_artifact(self.config.score)\n",
    "            \n",
    "\n",
    "            for param_name, param_value in self.config.all_params.items():\n",
    "                mlflow.log_param(param_name, param_value)\n",
    "\n",
    "            # Register the model in the MLflow Model Registry\n",
    "            model = self.model_load()\n",
    "            mlflow.keras.log_model(model, \"model\", registered_model_name=\"VGG16Model\")\n",
    "            \n",
    "            # Logging the model as an artifact\n",
    "            mlflow.keras.log_model(model, \"model\")\n",
    "            "
   ]
  },
  {
   "cell_type": "code",
   "execution_count": 18,
   "metadata": {},
   "outputs": [
    {
     "name": "stdout",
     "output_type": "stream",
     "text": [
      "2024-09-22 23:02:22,079 - INFO - Yaml file: config/config.yaml loaded successfully\n",
      "2024-09-22 23:02:22,084 - INFO - Yaml file: params.yaml loaded successfully\n",
      "2024-09-22 23:02:22,085 - INFO - created directory at: data\n",
      "2024-09-22 23:02:22,086 - INFO - created directory at: data/model_evaluation\n",
      "2024-09-22 23:02:22,091 - INFO - Yaml file: config/config.yaml loaded successfully\n",
      "2024-09-22 23:02:22,094 - INFO - Yaml file: params.yaml loaded successfully\n",
      "2024-09-22 23:02:22,095 - INFO - created directory at: data\n",
      "Found 272 images belonging to 2 classes.\n",
      "Found 60 images belonging to 2 classes.\n",
      "Found 58 images belonging to 2 classes.\n",
      "Training Accuracy: 81.62%\n",
      "Testing Accuracy: 98.33%\n",
      "2024-09-22 23:03:00,551 - INFO - json file saved at: data/model_evaluation/chicken_score.json\n"
     ]
    },
    {
     "name": "stderr",
     "output_type": "stream",
     "text": [
      "2024/09/22 23:03:05 WARNING mlflow.keras.save: You are saving a Keras model without specifying model signature.\n",
      "2024/09/22 23:03:09 WARNING mlflow.models.model: Model logged without a signature and input example. Please set `input_example` parameter when logging the model to auto infer the model signature.\n",
      "Registered model 'VGG16Model' already exists. Creating a new version of this model...\n",
      "2024/09/22 23:03:21 INFO mlflow.store.model_registry.abstract_store: Waiting up to 300 seconds for model version to finish creation. Model name: VGG16Model, version 2\n",
      "Created version '2' of model 'VGG16Model'.\n",
      "2024/09/22 23:03:21 WARNING mlflow.keras.save: You are saving a Keras model without specifying model signature.\n",
      "2024/09/22 23:03:25 WARNING mlflow.models.model: Model logged without a signature and input example. Please set `input_example` parameter when logging the model to auto infer the model signature.\n",
      "2024/09/22 23:03:35 INFO mlflow.tracking._tracking_service.client: 🏃 View run silent-newt-538 at: https://dagshub.com/Vicky7873/Chicken_fecal.mlflow/#/experiments/1/runs/0eed0ec2eab34de8be580b330d2019aa.\n",
      "2024/09/22 23:03:35 INFO mlflow.tracking._tracking_service.client: 🧪 View experiment at: https://dagshub.com/Vicky7873/Chicken_fecal.mlflow/#/experiments/1.\n"
     ]
    }
   ],
   "source": [
    "try:\n",
    "    config = ConfigurationManagerone()\n",
    "    eval_config = config.get_model_evaluation_config()\n",
    "\n",
    "    data_confog = ConfigurationManager()\n",
    "    aug_config = data_confog.get_data_aug()\n",
    "\n",
    "    model_eval = ModelEvaluation(config = eval_config, evl_config = aug_config)\n",
    "    model_eval.model_evaluate()\n",
    "    model_eval.save_score()\n",
    "    model_eval.log_model_mlfow()\n",
    "except Exception as e:\n",
    "    raise e"
   ]
  },
  {
   "cell_type": "code",
   "execution_count": null,
   "metadata": {},
   "outputs": [],
   "source": []
  }
 ],
 "metadata": {
  "kernelspec": {
   "display_name": "chkn",
   "language": "python",
   "name": "python3"
  },
  "language_info": {
   "codemirror_mode": {
    "name": "ipython",
    "version": 3
   },
   "file_extension": ".py",
   "mimetype": "text/x-python",
   "name": "python",
   "nbconvert_exporter": "python",
   "pygments_lexer": "ipython3",
   "version": "3.12.5"
  }
 },
 "nbformat": 4,
 "nbformat_minor": 2
}
